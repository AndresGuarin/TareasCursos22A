{
 "cells": [
  {
   "cell_type": "markdown",
   "metadata": {},
   "source": [
    "# Solución Ecuación de Frobenius - Caso Raíces Iguales\n",
    "\n",
    "Este código resuelve la ecuación de Frobenius usando el método de series. Los parámetros de entrada son las funciones $f_1(x)$ y $f_2(x)$, el polo o punto singular de la ecuación, el número de términos de la serie y la condición inicial $a_0$."
   ]
  },
  {
   "cell_type": "markdown",
   "metadata": {},
   "source": [
    "Este código fue elaborado por:\n",
    "\n",
    "* Miguel Fernando Becerra Rodriguez\n",
    "* Juan Andrés Guarín Rojas"
   ]
  },
  {
   "cell_type": "markdown",
   "metadata": {},
   "source": [
    "## 0. Importación de librerías"
   ]
  },
  {
   "cell_type": "code",
   "execution_count": 1,
   "metadata": {},
   "outputs": [],
   "source": [
    "import numpy as np\n",
    "import sympy as sp\n",
    "import matplotlib.pyplot as plt\n",
    "import sympy.plotting as splt"
   ]
  },
  {
   "cell_type": "markdown",
   "metadata": {},
   "source": [
    "## 1. Identificar Polos"
   ]
  },
  {
   "cell_type": "markdown",
   "metadata": {},
   "source": [
    "Considere la ecuación diferencial:\n",
    "\n",
    "$$ a_2(x)y'' + a_1(x)y' + a_0(x)y = 0$$\n",
    "\n",
    "Los puntos singulares o polos de dicha ecuación se dan en las raíces de $a_2(x)$. Al dividir toda la ecuación entre este factor se tiene:\n",
    "\n",
    "$$ y'' + \\frac{a_1(x)}{a_2(x)}y' + \\frac{a_0(x)}{a_2(x)}y = 0$$\n",
    "\n",
    "A continución se hallaran el orden de los polos de los factores que acompañan a $y'$ y $y$, o se mostrará que no tienen polos."
   ]
  },
  {
   "cell_type": "code",
   "execution_count": 2,
   "metadata": {},
   "outputs": [
    {
     "name": "stdout",
     "output_type": "stream",
     "text": [
      "a1/a2 = x/(x**5 + 3*x) \n",
      "a0/a2 = (x**2 + 2)/(x**5 + 3*x)\n",
      "\n",
      "La función a1/a2 no tiene un polo en: x = 0\n",
      "El valor del límite es: 1/3\n",
      "\n",
      "La función a0/a2 tiene un polo en: x = 0\n",
      "Este polo es de orden: 1\n",
      "\n"
     ]
    }
   ],
   "source": [
    "# Declarar variables\n",
    "x = sp.symbols('x')\n",
    "\n",
    "# Funciones\n",
    "a2 = x**5 + 3*x   # Coeficiente de y''\n",
    "a1 = x            # Coeficiente de y'\n",
    "a0 = x**2 + 2     # Coeficiente de y\n",
    "\n",
    "# Parametros\n",
    "o = 0     # Raíz de a2\n",
    "N = 10    # Valor máximo para verificar el orden del polo\n",
    "\n",
    "# Analizamos polos e identificamos su orden\n",
    "\n",
    "fun = [a1/a2, a0/a2]          # Funciones a verificarles el polo\n",
    "name = ['a1/a2', 'a0/a2']     # Nombres de las funciones\n",
    "\n",
    "print(f'a1/a2 = {fun[0]}', f'\\na0/a2 = {fun[1]}\\n')\n",
    "\n",
    "for i,f in enumerate(fun):\n",
    "\n",
    "    # 1. Analizamos si tiene un polo en x=o\n",
    "    if sp.limit(f, x, o) == sp.oo:\n",
    "        print(f'La función {name[i]} tiene un polo en: x = {o}')\n",
    "        \n",
    "        # 2. Analizamos el orden del polo, revisando desde 1 hasta N\n",
    "        for p in range(1, N+1):\n",
    "            if sp.limit(f*(x-o)**p, x, o) != sp.oo:\n",
    "                print(f'Este polo es de orden: {p}')\n",
    "                break\n",
    "        \n",
    "        # 3. Cuando no se logra eliminar el polo, se muestra en pantalla que no se consiguió encontrar el orden.\n",
    "        if sp.limit(f*(x-o)**10, x, o) == sp.oo:\n",
    "            print(f'El polo es esencial o tiene un orden mayor que {N}')\n",
    "    \n",
    "    # 4. Cuando la función no tiene un polo en x = o\n",
    "    else:\n",
    "        print(f'La función {name[i]} no tiene un polo en: x = {o}')\n",
    "        print('El valor del límite es:',sp.limit(f, x, o))\n",
    "    \n",
    "    print()"
   ]
  },
  {
   "cell_type": "markdown",
   "metadata": {},
   "source": [
    "## 2. Solución caso raíces iguales"
   ]
  },
  {
   "cell_type": "markdown",
   "metadata": {},
   "source": [
    "### a) Primera solución $y_1(x)$"
   ]
  },
  {
   "cell_type": "code",
   "execution_count": 10,
   "metadata": {
    "scrolled": true
   },
   "outputs": [
    {
     "data": {
      "image/png": "[encoded data removed]",
      "text/plain": [
       "<Figure size 432x288 with 1 Axes>"
      ]
     },
     "metadata": {
      "needs_background": "light"
     },
     "output_type": "display_data"
    }
   ],
   "source": [
    "# Declarar variables\n",
    "x, m, a0 = sp.symbols('x m a0')\n",
    "\n",
    "# Funciones\n",
    "f1 = 1\n",
    "f2 = x**2\n",
    "\n",
    "# Parametros\n",
    "o = 0      # Polo de la ecuación de Frobenius. Allí se centra la serie de Taylor\n",
    "n = 50    # Mayor grado expansión de Taylor\n",
    "\n",
    "# lista de los coeficientes de las funciones analiticas\n",
    "b = sp.zeros(1,n)\n",
    "c = sp.zeros(1,n)\n",
    "\n",
    "for i in range(0,n):\n",
    "    p = sp.diff(f1,x,i).subs(x,o)/sp.factorial(i)\n",
    "    q = sp.diff(f2,x,i).subs(x,o)/sp.factorial(i)\n",
    "    b[i] = p\n",
    "    c[i] = q\n",
    "\n",
    "# Hallamos raices utilizando ecuacion indicadora    \n",
    "a1, b1, c1 = 1, b[0]-1, c[0]      # Coeficientes ecuación cuadrática\n",
    "dis = b1**2 - 4*a1*c1             # Discriminante\n",
    "m1 = (-b1+sp.sqrt(dis))/(2*a1)    # Raiz 1\n",
    "m2 = (-b1-sp.sqrt(dis))/(2*a1)    # Raiz 2\n",
    "\n",
    "# Creamos lista con los coeficientes de la solucion, donde a0 se deja como\n",
    "# variable simbolica (depende condiciones iniciales). a1 depende de la ecuacion de recurrencia\n",
    "a = sp.zeros(n)\n",
    "a[0] = a0\n",
    "a[1] = -(a0*(m1*b[1]+c[1])) / (m1*(m1+1)+b[0]*(m1+1)+c[0])\n",
    "\n",
    "# Definimos la ecuacion indicadora. Se deja en función de la variable simbolica 'm'\n",
    "def ind(n):\n",
    "    y = (m+n)*(m+n-1)+b[0]*(m+n)+c[0]\n",
    "    return y\n",
    "\n",
    "# Ecuacion recurrencia\n",
    "def fun(n):\n",
    "    suma=0\n",
    "    for i in range(0,n):\n",
    "        suma += a[i]*((m+i)*b[n-i] +c[n-i]) \n",
    "    coe = -suma/ind(n)         # Coeficiente potencia x^n\n",
    "    a[n] = coe\n",
    "\n",
    "# Hallamos los coeficientes de la solucion    \n",
    "for t in range(2,n):\n",
    "    fun(t)\n",
    "\n",
    "# Evaluamos el valor de 'm' por 'm1'\n",
    "A = sp.zeros(1,n)\n",
    "for i in range(0,n):\n",
    "    A[i] = a[i].subs(m, m1)\n",
    "\n",
    "# Expresamos una parte de la primera solucion\n",
    "suma = 0\n",
    "for i in range(0,n):\n",
    "    suma += A[i]*x**i\n",
    "\n",
    "# Primera solucion    \n",
    "sol1 = x**m1*(suma)\n",
    "\n",
    "# Hacemos un ejemplo\n",
    "p = 1\n",
    "solp = sol1.subs(a0,p)\n",
    "\n",
    "plot = splt.plot(solp,(x,-10,10),label='n = %d, a0 = %.2f'%(n,p), show=False)\n",
    "plot.legend = True\n",
    "plot.title = 'Solución $y_1(x)$'\n",
    "plot.show()"
   ]
  },
  {
   "cell_type": "code",
   "execution_count": 4,
   "metadata": {},
   "outputs": [],
   "source": [
    "def sol1_p(p):\n",
    "    solp = sol1.subs(a0,p)\n",
    "    plot = splt.plot(solp,(x,-10,20),label='n = %d'%(n), show=False)\n",
    "    plot.legend = True\n",
    "    plot.title = 'Solución $y_1(x)$'\n",
    "    plot.show()"
   ]
  },
  {
   "cell_type": "markdown",
   "metadata": {},
   "source": [
    "### a) Segunda solución $y_2(x)$"
   ]
  },
  {
   "cell_type": "markdown",
   "metadata": {},
   "source": [
    "La segunda solucion depende de como son las raices. En el segundo caso las raices son iguales y se sigue de la siguiente manera:"
   ]
  },
  {
   "cell_type": "code",
   "execution_count": 11,
   "metadata": {},
   "outputs": [
    {
     "data": {
      "image/png": "[encoded data removed]",
      "text/plain": [
       "<Figure size 432x288 with 1 Axes>"
      ]
     },
     "metadata": {
      "needs_background": "light"
     },
     "output_type": "display_data"
    }
   ],
   "source": [
    "if m1 == m2:\n",
    "    # Calculamos los coeficientes de la segunda serie. Estos vienen en funcion de las derivadas\n",
    "    # de los coeficientes de la primera solución.\n",
    "    B = sp.zeros(1,n)\n",
    "    for i in range(0,n): #Observe que la serie empieza con B1, por ende \"no va a haber\" el termino B0 en relacion con a0\n",
    "        B[i] = sp.diff(a[i+1],m).subs(m,m1)\n",
    "    \n",
    "    # Expresamos una parte de la primera solucion\n",
    "    suma2 = 0\n",
    "    for i in range (0,n):\n",
    "        suma2 += B[i]*x**(i+1)\n",
    "    \n",
    "    # Segunda solucion\n",
    "    sol2 = sol1*sp.log(x) + x**m1 * suma2\n",
    "\n",
    "    # Hacemos un ejemplo\n",
    "    solp = sol2.subs(a0,p)\n",
    "\n",
    "    plot = splt.plot(solp,(x,0.1,10),label='n = %d, a0 = %.2f'%(n,p), show=False)\n",
    "    plot.legend = True\n",
    "    plot.title = 'Solución $y_2(x)$'\n",
    "    plot.show()"
   ]
  },
  {
   "cell_type": "code",
   "execution_count": 7,
   "metadata": {},
   "outputs": [],
   "source": [
    "def sol2_p(p):\n",
    "    solp = sol2.subs(a0,p)\n",
    "    plot = splt.plot(solp,(x,0.1,10),label='n = %d, a0 = %.2f'%(n,p), show=False)\n",
    "    plot.legend = True\n",
    "    plot.title = 'Solución $y_2(x)$'\n",
    "    plot.show()"
   ]
  },
  {
   "cell_type": "markdown",
   "metadata": {},
   "source": [
    "## c) Solución general $y(x)$"
   ]
  },
  {
   "cell_type": "code",
   "execution_count": 14,
   "metadata": {
    "scrolled": true
   },
   "outputs": [
    {
     "data": {
      "image/png": "[encoded data removed]",
      "text/plain": [
       "<Figure size 432x288 with 1 Axes>"
      ]
     },
     "metadata": {
      "needs_background": "light"
     },
     "output_type": "display_data"
    }
   ],
   "source": [
    "# Tenemos una familia de soluciones\n",
    "c1, c2 = sp.symbols('c1 c2')    # Constantes solución general\n",
    "\n",
    "# Solución general\n",
    "sol_general = c1*sol1 + c2*sol2\n",
    "\n",
    "# Ejemplo\n",
    "p=1\n",
    "cte1 = 1\n",
    "cte2 = 1\n",
    "solp = sol_general.subs(a0,p).subs(c1,cte1).subs(c2,cte2)\n",
    "\n",
    "plot = splt.plot(solp,(x,0.1,10),label='a0 = %.2f, c1=%.2f, c2=%.2f'%(p,cte1,cte2), show=False)\n",
    "plot.legend = True\n",
    "plot.title = 'Solución general $y(x)$'\n",
    "plot.show()"
   ]
  },
  {
   "cell_type": "code",
   "execution_count": 15,
   "metadata": {},
   "outputs": [],
   "source": [
    "def sol_general_p(p,c1,c2):\n",
    "    solp = sol_general.subs(a0,p).subs(c1,1).subs(c2,1)\n",
    "    plot = splt.plot(solp,(x,0.1,10),label='a0 = %.2f, c1=%.2f, c2=%.2f'%(p,cte1,cte2), show=False)\n",
    "    plot.legend = True\n",
    "    plot.title = 'Solución general $y(x)$'\n",
    "    plot.show()"
   ]
  },
  {
   "cell_type": "code",
   "execution_count": null,
   "metadata": {},
   "outputs": [],
   "source": []
  }
 ],
 "metadata": {
  "kernelspec": {
   "display_name": "Python 3 (ipykernel)",
   "language": "python",
   "name": "python3"
  },
  "language_info": {
   "codemirror_mode": {
    "name": "ipython",
    "version": 3
   },
   "file_extension": ".py",
   "mimetype": "text/x-python",
   "name": "python",
   "nbconvert_exporter": "python",
   "pygments_lexer": "ipython3",
   "version": "3.10.5"
  }
 },
 "nbformat": 4,
 "nbformat_minor": 4
}
