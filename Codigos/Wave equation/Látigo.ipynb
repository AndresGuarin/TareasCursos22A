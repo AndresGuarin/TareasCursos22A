{
 "cells": [
  {
   "cell_type": "markdown",
   "metadata": {},
   "source": [
    "# Solución ecuación de onda para un látigo\n",
    "\n",
    "Este código fue elaborado por:\n",
    "\n",
    "- Miguel Fernando Becerra Rodriguez\n",
    "\n",
    "- Juan Andrés Guarín Rojas"
   ]
  },
  {
   "cell_type": "code",
   "execution_count": 1,
   "metadata": {},
   "outputs": [],
   "source": [
    "#Importamos las librerías \n",
    "import numpy as np\n",
    "import matplotlib.pyplot as plt\n",
    "import matplotlib.animation as animation"
   ]
  },
  {
   "cell_type": "markdown",
   "metadata": {},
   "source": [
    "## Primer caso: cuerda con ambos extremos fijos"
   ]
  },
  {
   "cell_type": "code",
   "execution_count": 22,
   "metadata": {},
   "outputs": [
    {
     "name": "stdout",
     "output_type": "stream",
     "text": [
      "Using matplotlib backend: TkAgg\n"
     ]
    },
    {
     "name": "stderr",
     "output_type": "stream",
     "text": [
      "No artists with labels found to put in legend.  Note that artists whose label start with an underscore are ignored when legend() is called with no argument.\n"
     ]
    }
   ],
   "source": [
    "# Physical parameters\n",
    "a=2   # Alto máximo\n",
    "b=1   # Ancho pulso inicial\n",
    "L=10  # Longitud de la cuerda\n",
    "c=1   # Velocidad de la onda\n",
    "\n",
    "# Code parameters\n",
    "N  = 20    # Cantidad de términos de la serie\n",
    "Nx = 100   # Puntos de la malla de x\n",
    "Nt = 200  # Puntos de la malla de tiempo\n",
    "\n",
    "# Functions\n",
    "def A_n(n):\n",
    "    return 2*a/b * L/(n*np.pi)**2 * ( -np.sin(n*np.pi*2*b/L) + 2*np.sin(n*np.pi*b/L) )\n",
    "\n",
    "A=[A_n(n) for n in range(1,N)]\n",
    "\n",
    "def u_n(n,x,t):\n",
    "    return A[n-1] * np.cos(c*n*np.pi*t/L)*np.sin(n*np.pi*x/L)\n",
    "\n",
    "# Find solution\n",
    "x = np.linspace(0,L,Nx)\n",
    "t = np.linspace(0,20,Nt)\n",
    "u = np.zeros((Nx,Nt))\n",
    "\n",
    "for i in range(Nt):\n",
    "    for j in range(Nx):\n",
    "        for n in range(1,N):\n",
    "            u[j,i] += u_n(n,x[j],t[i])\n",
    "            \n",
    "%matplotlib auto\n",
    "\n",
    "stop = Nt\n",
    "fig = plt.figure(figsize=(6,4))\n",
    "ax = fig.gca()\n",
    "\n",
    "def update(j):\n",
    "    ax.clear()\n",
    "    ax.plot(x,u[:,j],color='b',label='t = %.1f'%(t[j]))\n",
    "    plt.legend(loc='upper right')\n",
    "    plt.xlim(-0.1,L+0.1)\n",
    "    plt.ylim(-2-0.1,2.1)\n",
    "    plt.xlabel(\"x\")\n",
    "    plt.ylabel(\"u(x,t)\")\n",
    "    \n",
    "ani = animation.FuncAnimation(fig,update,range(10,stop,1), repeat=True, interval=5, repeat_delay=1000)\n",
    "plt.show()"
   ]
  },
  {
   "cell_type": "markdown",
   "metadata": {},
   "source": [
    "## Segundo caso: un extremo libre"
   ]
  },
  {
   "cell_type": "code",
   "execution_count": 14,
   "metadata": {},
   "outputs": [],
   "source": [
    "def w(n):\n",
    "    return np.pi*(2*n-1)/(2*L)\n",
    "\n",
    "def B_n(n):\n",
    "    return a*(2*np.sin(w(n)*b)-np.sin(2*w(n)*b))/(L*b*w(n))**2 \n",
    "\n",
    "B=[B_n(n) for n in range(1,N) ]\n",
    "\n",
    "def u1_n(n,x,t):\n",
    "    return 15* B[n-1] * np.cos(c*w(n)*t) * np.sin(w(n)*x)\n",
    "\n",
    "u1 = np.zeros((Nx,Nt))\n",
    "\n",
    "\n",
    "for i in range(Nt):\n",
    "    for j in range(Nx):\n",
    "        for n in range(1,N):\n",
    "            u1[j,i] += u1_n(n,x[j],t[i])\n",
    "            \n",
    "stop = Nt\n",
    "fig = plt.figure(figsize=(6,4))\n",
    "ax = fig.gca()\n",
    "\n",
    "def update(j):\n",
    "    ax.clear()\n",
    "    ax.plot(x,u1[:,j],'-b',label='t = %.1f'%(t[j]))\n",
    "    plt.legend(loc='upper right')\n",
    "    plt.xlim(-0.1,L+0.1)\n",
    "    plt.ylim(-2-0.1,2.1)\n",
    "    plt.xlabel(\"x\")\n",
    "    plt.ylabel(\"u(x,t)\")\n",
    "    \n",
    "ani = animation.FuncAnimation(fig,update,range(10,stop,1), repeat=True, interval=5, repeat_delay=1000)\n",
    "plt.show()"
   ]
  },
  {
   "cell_type": "code",
   "execution_count": null,
   "metadata": {},
   "outputs": [],
   "source": []
  }
 ],
 "metadata": {
  "kernelspec": {
   "display_name": "Python 3 (ipykernel)",
   "language": "python",
   "name": "python3"
  },
  "language_info": {
   "codemirror_mode": {
    "name": "ipython",
    "version": 3
   },
   "file_extension": ".py",
   "mimetype": "text/x-python",
   "name": "python",
   "nbconvert_exporter": "python",
   "pygments_lexer": "ipython3",
   "version": "3.10.8"
  }
 },
 "nbformat": 4,
 "nbformat_minor": 4
}
