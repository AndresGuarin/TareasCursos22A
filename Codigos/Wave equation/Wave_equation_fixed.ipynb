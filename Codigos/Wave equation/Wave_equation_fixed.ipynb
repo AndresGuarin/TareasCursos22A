{
 "cells": [
  {
   "cell_type": "markdown",
   "id": "a5059131",
   "metadata": {},
   "source": [
    "# Solución ecuación de onda - Cuerda fija a los dos extremos\n",
    "\n",
    "Este código muestra la solución de la ecuación de onda 1D para el caso de una cuerda de longitud L atada a los dos extremos y a la cual se le da un pequeño pulso en el tiempo inicial. Las ecuaciones usadas en este código fueron obtenidas de manera analítica a mano. Puede encontrar más información en la carpeta DocPDF del repositorio.\n",
    "\n",
    "Este trabajo fue elaborado por:\n",
    "\n",
    "* Miguel Fernando Becerra Rodriguez\n",
    "* Juan Andrés Guarín Rojas"
   ]
  },
  {
   "cell_type": "markdown",
   "id": "ce6fbe74",
   "metadata": {},
   "source": [
    "## 0. Importación de librerías"
   ]
  },
  {
   "cell_type": "code",
   "execution_count": 1,
   "id": "15c578b8",
   "metadata": {},
   "outputs": [],
   "source": [
    "import numpy as np\n",
    "import matplotlib.pyplot as plt"
   ]
  },
  {
   "cell_type": "markdown",
   "id": "2c705108",
   "metadata": {},
   "source": [
    "## 1. Creación de funciones de la solución"
   ]
  },
  {
   "cell_type": "code",
   "execution_count": 2,
   "id": "c06cd37c",
   "metadata": {},
   "outputs": [
    {
     "name": "stdout",
     "output_type": "stream",
     "text": [
      "Writing met2.py\n"
     ]
    }
   ],
   "source": [
    "# Crear archivo para graficar solución a la ecuación de onda\n",
    "%%writefile solver.py\n",
    "import numpy as np\n",
    "\n",
    "# Physical parameters\n",
    "a=1\n",
    "b=1\n",
    "L=10\n",
    "c=1\n",
    "\n",
    "# Code parameters\n",
    "N = 100\n",
    "Nx = 100\n",
    "Nt = 200\n",
    "\n",
    "# Functions\n",
    "def A_n(n):\n",
    "    return 2*a/b * L/(n*np.pi)**2 * ( -np.sin(n*np.pi*2*b/L) + 2*np.sin(n*np.pi*b/L) )\n",
    "\n",
    "A=[A_n(n) for n in range(1,N)]\n",
    "\n",
    "def u_n(n,x,t):\n",
    "    return A[n-1] * np.cos(c*n*np.pi*t/L)*np.sin(n*np.pi*x/L)\n",
    "\n",
    "# Find solution\n",
    "x = np.linspace(0,L,Nx)\n",
    "t = np.linspace(0,20,Nt)\n",
    "u = np.zeros((Nx,Nt))\n",
    "\n",
    "for i in range(Nt):\n",
    "    for j in range(Nx):\n",
    "        for n in range(1,N):\n",
    "            u[j,i] += u_n(n,x[j],t[i])"
   ]
  },
  {
   "cell_type": "markdown",
   "id": "74e01f75",
   "metadata": {},
   "source": [
    "## 2. Ejecución del código"
   ]
  },
  {
   "cell_type": "markdown",
   "id": "af48de2d",
   "metadata": {},
   "source": [
    "Este código se ejecuta en el entorno local de python. Se hizo de esta forma para intentar reducir el tiempo computacional."
   ]
  },
  {
   "cell_type": "code",
   "execution_count": 3,
   "id": "d665e071",
   "metadata": {},
   "outputs": [],
   "source": [
    "%run solver.py"
   ]
  },
  {
   "cell_type": "markdown",
   "id": "1f6af7bf",
   "metadata": {},
   "source": [
    "## 3. Graficas de la solución"
   ]
  },
  {
   "cell_type": "markdown",
   "id": "7abdce1a",
   "metadata": {},
   "source": [
    "### Estado inicial de la cuerda"
   ]
  },
  {
   "cell_type": "code",
   "execution_count": 15,
   "id": "1ed72508",
   "metadata": {
    "scrolled": false
   },
   "outputs": [
    {
     "data": {
      "image/png": "[encoded data removed]",
      "text/plain": [
       "<Figure size 432x288 with 1 Axes>"
      ]
     },
     "metadata": {
      "needs_background": "light"
     },
     "output_type": "display_data"
    }
   ],
   "source": [
    "# Mostrar estado inicial\n",
    "%matplotlib inline\n",
    "j = 0\n",
    "plt.figure(figsize=(6,4))\n",
    "plt.plot(x,u[:,j])\n",
    "plt.xticks(fontsize=14)\n",
    "plt.yticks(fontsize=14)\n",
    "plt.xlim(-0.1,L+0.1)\n",
    "plt.ylim(-0.2-b,b+0.2)\n",
    "plt.show()"
   ]
  },
  {
   "cell_type": "markdown",
   "id": "632056f8",
   "metadata": {},
   "source": [
    "### Animación del movimiento de la cuerda"
   ]
  },
  {
   "cell_type": "code",
   "execution_count": 23,
   "id": "21255796",
   "metadata": {},
   "outputs": [
    {
     "name": "stdout",
     "output_type": "stream",
     "text": [
      "Using matplotlib backend: TkAgg\n",
      "Using matplotlib backend: TkAgg\n"
     ]
    }
   ],
   "source": [
    "%matplotlib auto\n",
    "%matplotlib auto\n",
    "import matplotlib.animation as animation\n",
    "\n",
    "stop = Nt\n",
    "fig = plt.figure(figsize=(8,5))\n",
    "ax = fig.gca()\n",
    "plt.xticks(fontsize=14)\n",
    "plt.yticks(fontsize=14)\n",
    "\n",
    "def update(j):\n",
    "    ax.clear()\n",
    "    ax.plot(x,u[:,j],'-b',label='t = %.1f'%(t[j]))\n",
    "    plt.legend(loc='upper right')\n",
    "    plt.xlim(-0.1,L+0.1)\n",
    "    plt.ylim(-0.2-b,b+0.2)\n",
    "    \n",
    "ani = animation.FuncAnimation(fig,update,range(0,stop,1), repeat=True, interval=5, repeat_delay=1000)\n",
    "\n",
    "save=True\n",
    "if save:\n",
    "    # Save and show animation\n",
    "    ani.save('Wave_equation_fixed.mp4', writer='ffmpeg', dpi=450)\n",
    "    plt.show()\n",
    "else: \n",
    "    # Show animation\n",
    "    plt.show()"
   ]
  },
  {
   "cell_type": "code",
   "execution_count": null,
   "id": "48f5251e",
   "metadata": {},
   "outputs": [],
   "source": []
  }
 ],
 "metadata": {
  "kernelspec": {
   "display_name": "Python 3 (ipykernel)",
   "language": "python",
   "name": "python3"
  },
  "language_info": {
   "codemirror_mode": {
    "name": "ipython",
    "version": 3
   },
   "file_extension": ".py",
   "mimetype": "text/x-python",
   "name": "python",
   "nbconvert_exporter": "python",
   "pygments_lexer": "ipython3",
   "version": "3.10.7"
  }
 },
 "nbformat": 4,
 "nbformat_minor": 5
}
